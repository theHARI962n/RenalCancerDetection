{
 "cells": [
  {
   "cell_type": "code",
   "execution_count": 1,
   "id": "c88c2a19",
   "metadata": {},
   "outputs": [],
   "source": [
    "import os\n",
    "import random\n",
    "import shutil\n",
    "from PIL import Image\n",
    "from tqdm import tqdm  # Import tqdm for progress bar"
   ]
  },
  {
   "cell_type": "code",
   "execution_count": 9,
   "id": "3eb68883",
   "metadata": {},
   "outputs": [],
   "source": [
    "# Set the root directory of your dataset\n",
    "root_dir = \"RawDataset\"\n",
    "train_path = \"Datasets/train\"\n",
    "val_path = \"Datasets/val\"\n",
    "# Set the percentage of images to use for each set\n",
    "train_ratio = 0.8\n",
    "train_ratio = 0.8  # 80% for training\n",
    "target_size = (224, 224)  # Adjust as needed\n"
   ]
  },
  {
   "cell_type": "code",
   "execution_count": 10,
   "id": "012df020",
   "metadata": {},
   "outputs": [
    {
     "name": "stderr",
     "output_type": "stream",
     "text": [
      "Training images - Normal: 100%|████████████████████████████████████████████████| 4000/4000 [00:29<00:00, 136.87image/s]\n",
      "Validation images - Normal: 100%|██████████████████████████████████████████████| 1000/1000 [00:06<00:00, 146.47image/s]\n",
      "Training images - Tumor: 100%|█████████████████████████████████████████████████| 4000/4000 [00:29<00:00, 136.21image/s]\n",
      "Validation images - Tumor: 100%|███████████████████████████████████████████████| 1000/1000 [00:07<00:00, 139.14image/s]"
     ]
    },
    {
     "name": "stdout",
     "output_type": "stream",
     "text": [
      "Dataset split and resized successfully!\n"
     ]
    },
    {
     "name": "stderr",
     "output_type": "stream",
     "text": [
      "\n"
     ]
    }
   ],
   "source": [
    "\n",
    "# Create destination folders\n",
    "os.makedirs(train_path, exist_ok=True)\n",
    "os.makedirs(val_path, exist_ok=True)\n",
    "\n",
    "# Process each class folder\n",
    "for class_folder in os.listdir(root_dir):\n",
    "    class_folder_path = os.path.join(root_dir, class_folder)\n",
    "    train_class_path = os.path.join(train_path, class_folder)\n",
    "    val_class_path = os.path.join(val_path, class_folder)\n",
    "    \n",
    "    # Create class folders if they don't exist\n",
    "    os.makedirs(train_class_path, exist_ok=True)\n",
    "    os.makedirs(val_class_path, exist_ok=True)\n",
    "    \n",
    "    # Get and shuffle image list\n",
    "    images = os.listdir(class_folder_path)\n",
    "    random.shuffle(images)\n",
    "    \n",
    "    # Split into training and validation sets\n",
    "    split_idx = int(len(images) * train_ratio)\n",
    "    train_images = images[:split_idx]\n",
    "    val_images = images[split_idx:]\n",
    "    \n",
    "    # Process training images\n",
    "    for image in tqdm(train_images, desc=f\"Training images - {class_folder}\", unit=\"image\"):\n",
    "        image_path = os.path.join(class_folder_path, image)\n",
    "        img = Image.open(image_path)\n",
    "        \n",
    "        # Convert RGBA to RGB if necessary\n",
    "        if img.mode == 'RGBA':\n",
    "            img = img.convert('RGB')\n",
    "            \n",
    "        # Resize image\n",
    "        img = img.resize(target_size)\n",
    "        \n",
    "        # Save to training folder\n",
    "        img.save(os.path.join(train_class_path, image))\n",
    "    \n",
    "    # Process validation images\n",
    "    for image in tqdm(val_images, desc=f\"Validation images - {class_folder}\", unit=\"image\"):\n",
    "        image_path = os.path.join(class_folder_path, image)\n",
    "        img = Image.open(image_path)\n",
    "        \n",
    "        if img.mode == 'RGBA':\n",
    "            img = img.convert('RGB')\n",
    "            \n",
    "        img = img.resize(target_size)\n",
    "        img.save(os.path.join(val_class_path, image))\n",
    "\n",
    "print(\"Dataset split and resized successfully!\")"
   ]
  },
  {
   "cell_type": "code",
   "execution_count": null,
   "id": "85c93bed",
   "metadata": {},
   "outputs": [],
   "source": []
  },
  {
   "cell_type": "code",
   "execution_count": null,
   "id": "34f25e20",
   "metadata": {},
   "outputs": [],
   "source": []
  }
 ],
 "metadata": {
  "kernelspec": {
   "display_name": "Python 3 (ipykernel)",
   "language": "python",
   "name": "python3"
  },
  "language_info": {
   "codemirror_mode": {
    "name": "ipython",
    "version": 3
   },
   "file_extension": ".py",
   "mimetype": "text/x-python",
   "name": "python",
   "nbconvert_exporter": "python",
   "pygments_lexer": "ipython3",
   "version": "3.9.18"
  }
 },
 "nbformat": 4,
 "nbformat_minor": 5
}
